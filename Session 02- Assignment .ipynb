{
 "cells": [
  {
   "cell_type": "markdown",
   "id": "0deaf1ea",
   "metadata": {},
   "source": [
    "# Homework 1"
   ]
  },
  {
   "cell_type": "code",
   "execution_count": 1,
   "id": "05bc3f1d",
   "metadata": {},
   "outputs": [],
   "source": [
    "#1)  practice Makes Perfect.\n",
    "\n",
    "#2) \n",
    "#Children must be taught \n",
    "#how to think\n",
    "#NOT\n",
    "#what to think\n",
    "\n",
    "\n",
    "#4) 2*3*4*5/10 = \n",
    "#5) 12"
   ]
  },
  {
   "cell_type": "markdown",
   "id": "d9bb4b26",
   "metadata": {},
   "source": [
    "# Homework 2"
   ]
  },
  {
   "cell_type": "code",
   "execution_count": 10,
   "id": "440218de",
   "metadata": {},
   "outputs": [
    {
     "name": "stdout",
     "output_type": "stream",
     "text": [
      "Print(\"Me\")\n",
      "Print('Me')\n",
      "Print('Me\")\n",
      "You will learn \n",
      " a lot\n"
     ]
    }
   ],
   "source": [
    "print('Print(\"Me\")')\n",
    "print(\"Print('Me')\")\n",
    "print(\"\"\"Print('Me\")\"\"\")\n",
    "print(\"You will learn \\n a lot\")"
   ]
  },
  {
   "cell_type": "markdown",
   "id": "a8c03e3a",
   "metadata": {},
   "source": [
    "# Homework 3"
   ]
  },
  {
   "cell_type": "code",
   "execution_count": 14,
   "id": "2530ff75",
   "metadata": {},
   "outputs": [
    {
     "name": "stdout",
     "output_type": "stream",
     "text": [
      "*\n",
      "* *\n",
      "* * *\n",
      "* * * *\n",
      "* * * * *\n"
     ]
    }
   ],
   "source": [
    "print(\"*\")\n",
    "print(\"* *\")\n",
    "print(\"* * *\")\n",
    "print(\"* * * *\")\n",
    "print(\"* * * * *\")"
   ]
  },
  {
   "cell_type": "markdown",
   "id": "7daf0cb6",
   "metadata": {},
   "source": [
    "# Homework 4"
   ]
  },
  {
   "cell_type": "code",
   "execution_count": 39,
   "id": "17e19279",
   "metadata": {},
   "outputs": [
    {
     "name": "stdout",
     "output_type": "stream",
     "text": [
      "           *\n",
      "        * * *\n",
      "     * * * * * \n",
      "   * * * * * * *\n",
      " * * * * * * * * *\n"
     ]
    }
   ],
   "source": [
    "print(\"           *\")\n",
    "print(\"        * * *\")\n",
    "print(\"     * * * * * \")\n",
    "print(\"   * * * * * * *\")\n",
    "print(\" * * * * * * * * *\")"
   ]
  },
  {
   "cell_type": "markdown",
   "id": "5c6c7ed1",
   "metadata": {},
   "source": [
    "# Homework 5"
   ]
  },
  {
   "cell_type": "code",
   "execution_count": 41,
   "id": "24a9be79",
   "metadata": {},
   "outputs": [
    {
     "name": "stdout",
     "output_type": "stream",
     "text": [
      "           *\n",
      "        * * *\n",
      "     * * * * * \n",
      "   * * * * * * *\n",
      "* * * * * * * * *\n",
      "   * * * * * * *\n",
      "     * * * * * \n",
      "        * * *\n",
      "           *\n"
     ]
    }
   ],
   "source": [
    "print(\"           *\")\n",
    "print(\"        * * *\")\n",
    "print(\"     * * * * * \")\n",
    "print(\"   * * * * * * *\")\n",
    "print(\"* * * * * * * * *\")\n",
    "print(\"   * * * * * * *\")\n",
    "print(\"     * * * * * \")\n",
    "print(\"        * * *\")\n",
    "print(\"           *\")"
   ]
  },
  {
   "cell_type": "markdown",
   "id": "be5bad46",
   "metadata": {},
   "source": [
    "# Homework 6"
   ]
  },
  {
   "cell_type": "code",
   "execution_count": 48,
   "id": "4543e764",
   "metadata": {},
   "outputs": [
    {
     "name": "stdout",
     "output_type": "stream",
     "text": [
      "Hi\n",
      "\n",
      "I am Mahmoud\n",
      "18\n",
      "Wonderful day\n",
      "Wonderful day\n"
     ]
    }
   ],
   "source": [
    "#1) \n",
    "print(\"Hi\")\n",
    "\n",
    "#2)\n",
    "print()\n",
    "\n",
    "#3)\n",
    "print(\"I am Mahmoud\")\n",
    "\n",
    "#4)\n",
    "print(3*6)\n",
    "\n",
    "#5)\n",
    "print(\"Wonderful\" ,\"day\")\n",
    "print(\"Wonderful\" , \"day\")"
   ]
  }
 ],
 "metadata": {
  "kernelspec": {
   "display_name": "Python 3",
   "language": "python",
   "name": "python3"
  },
  "language_info": {
   "codemirror_mode": {
    "name": "ipython",
    "version": 3
   },
   "file_extension": ".py",
   "mimetype": "text/x-python",
   "name": "python",
   "nbconvert_exporter": "python",
   "pygments_lexer": "ipython3",
   "version": "3.8.8"
  }
 },
 "nbformat": 4,
 "nbformat_minor": 5
}

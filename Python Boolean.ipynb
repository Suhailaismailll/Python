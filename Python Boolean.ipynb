{
 "cells": [
  {
   "cell_type": "markdown",
   "id": "1742b275",
   "metadata": {},
   "source": [
    "# Compare Two Values"
   ]
  },
  {
   "cell_type": "code",
   "execution_count": 1,
   "id": "c86f2189",
   "metadata": {},
   "outputs": [
    {
     "name": "stdout",
     "output_type": "stream",
     "text": [
      "True\n",
      "False\n",
      "True\n",
      "True\n",
      "False\n"
     ]
    }
   ],
   "source": [
    "print(100>50)\n",
    "print(50>=60)\n",
    "print(30==30)\n",
    "print(40<=40)\n",
    "print(40<30)"
   ]
  },
  {
   "cell_type": "markdown",
   "id": "f5a61e0a",
   "metadata": {},
   "source": [
    "# Comparing Using If Condition "
   ]
  },
  {
   "cell_type": "code",
   "execution_count": 4,
   "id": "b03c8e89",
   "metadata": {},
   "outputs": [
    {
     "name": "stdout",
     "output_type": "stream",
     "text": [
      "b is greater than a\n"
     ]
    }
   ],
   "source": [
    "a=30\n",
    "b=60\n",
    "\n",
    "if a>b :\n",
    "    print(\"a is greater than b\")\n",
    "else:\n",
    "    print(\"b is greater than a\")"
   ]
  },
  {
   "cell_type": "markdown",
   "id": "3443eb18",
   "metadata": {},
   "source": [
    "# Most Values Are True"
   ]
  },
  {
   "cell_type": "code",
   "execution_count": 25,
   "id": "251fd891",
   "metadata": {},
   "outputs": [
    {
     "name": "stdout",
     "output_type": "stream",
     "text": [
      "True\n",
      "True\n",
      "True\n",
      "True\n",
      "True\n"
     ]
    }
   ],
   "source": [
    "print(bool(\"Suhaila\"))\n",
    "print(bool(\"0123\"))\n",
    "print(bool(\"Banana\"))\n",
    "print(bool([\"a\", \"c\", \"b\"]))\n",
    "print(bool({0,1,2,3,4}))"
   ]
  },
  {
   "cell_type": "markdown",
   "id": "758195b4",
   "metadata": {},
   "source": [
    "# Falsy Values"
   ]
  },
  {
   "cell_type": "code",
   "execution_count": 30,
   "id": "d0be818b",
   "metadata": {},
   "outputs": [
    {
     "name": "stdout",
     "output_type": "stream",
     "text": [
      "False\n",
      "False\n",
      "False\n",
      "False\n",
      "False\n",
      "False\n"
     ]
    }
   ],
   "source": [
    "print(bool({}))\n",
    "print(bool(\"\"))\n",
    "print(bool(None))\n",
    "print(bool([]))\n",
    "print(bool())\n",
    "print(bool(0))"
   ]
  }
 ],
 "metadata": {
  "kernelspec": {
   "display_name": "Python 3",
   "language": "python",
   "name": "python3"
  },
  "language_info": {
   "codemirror_mode": {
    "name": "ipython",
    "version": 3
   },
   "file_extension": ".py",
   "mimetype": "text/x-python",
   "name": "python",
   "nbconvert_exporter": "python",
   "pygments_lexer": "ipython3",
   "version": "3.8.8"
  }
 },
 "nbformat": 4,
 "nbformat_minor": 5
}

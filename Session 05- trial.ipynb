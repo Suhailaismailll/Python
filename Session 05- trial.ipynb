{
 "cells": [
  {
   "cell_type": "markdown",
   "id": "baaef608",
   "metadata": {},
   "source": [
    "# List"
   ]
  },
  {
   "cell_type": "code",
   "execution_count": 1,
   "id": "64aaf7e4",
   "metadata": {},
   "outputs": [],
   "source": [
    "x1= [\"apple\", \"banana\", \"orange\"]"
   ]
  },
  {
   "cell_type": "code",
   "execution_count": 2,
   "id": "d6391a3e",
   "metadata": {},
   "outputs": [],
   "source": [
    "x1.append(\"avocado\")"
   ]
  },
  {
   "cell_type": "code",
   "execution_count": 3,
   "id": "f3f0a88d",
   "metadata": {},
   "outputs": [
    {
     "data": {
      "text/plain": [
       "['apple', 'banana', 'orange', 'avocado']"
      ]
     },
     "execution_count": 3,
     "metadata": {},
     "output_type": "execute_result"
    }
   ],
   "source": [
    "x1"
   ]
  },
  {
   "cell_type": "code",
   "execution_count": 4,
   "id": "59f45e93",
   "metadata": {},
   "outputs": [],
   "source": [
    "x1.remove(\"apple\")"
   ]
  },
  {
   "cell_type": "code",
   "execution_count": 5,
   "id": "b2e39e8c",
   "metadata": {},
   "outputs": [
    {
     "data": {
      "text/plain": [
       "['banana', 'orange', 'avocado']"
      ]
     },
     "execution_count": 5,
     "metadata": {},
     "output_type": "execute_result"
    }
   ],
   "source": [
    "x1"
   ]
  },
  {
   "cell_type": "code",
   "execution_count": 6,
   "id": "ece812a2",
   "metadata": {},
   "outputs": [
    {
     "data": {
      "text/plain": [
       "['banana', 'avocado']"
      ]
     },
     "execution_count": 6,
     "metadata": {},
     "output_type": "execute_result"
    }
   ],
   "source": [
    "x1.pop(1)\n",
    "x1"
   ]
  },
  {
   "cell_type": "code",
   "execution_count": 7,
   "id": "fd4a1c81",
   "metadata": {},
   "outputs": [],
   "source": [
    "x2=[\"mango\", \"kiwi\"]\n"
   ]
  },
  {
   "cell_type": "code",
   "execution_count": 8,
   "id": "bc331f07",
   "metadata": {},
   "outputs": [],
   "source": [
    "x1.extend(x2)"
   ]
  },
  {
   "cell_type": "code",
   "execution_count": 9,
   "id": "1269dfa2",
   "metadata": {},
   "outputs": [
    {
     "data": {
      "text/plain": [
       "['banana', 'avocado', 'mango', 'kiwi']"
      ]
     },
     "execution_count": 9,
     "metadata": {},
     "output_type": "execute_result"
    }
   ],
   "source": [
    "x1"
   ]
  },
  {
   "cell_type": "code",
   "execution_count": null,
   "id": "8a6b2712",
   "metadata": {},
   "outputs": [],
   "source": []
  },
  {
   "cell_type": "markdown",
   "id": "05650aa6",
   "metadata": {},
   "source": [
    "# Tuples"
   ]
  },
  {
   "cell_type": "code",
   "execution_count": 10,
   "id": "e3cfa149",
   "metadata": {},
   "outputs": [],
   "source": [
    "a1=(1,\"2\",\"watermelon\")"
   ]
  },
  {
   "cell_type": "code",
   "execution_count": 15,
   "id": "27183a28",
   "metadata": {},
   "outputs": [
    {
     "ename": "AttributeError",
     "evalue": "'tuple' object has no attribute 'remove'",
     "output_type": "error",
     "traceback": [
      "\u001b[1;31m---------------------------------------------------------------------------\u001b[0m",
      "\u001b[1;31mAttributeError\u001b[0m                            Traceback (most recent call last)",
      "\u001b[1;32m<ipython-input-15-919da77104b1>\u001b[0m in \u001b[0;36m<module>\u001b[1;34m\u001b[0m\n\u001b[1;32m----> 1\u001b[1;33m \u001b[0ma1\u001b[0m\u001b[1;33m.\u001b[0m\u001b[0mremove\u001b[0m\u001b[1;33m(\u001b[0m\u001b[1;34m\"hello\"\u001b[0m\u001b[1;33m)\u001b[0m\u001b[1;33m\u001b[0m\u001b[1;33m\u001b[0m\u001b[0m\n\u001b[0m\u001b[0;32m      2\u001b[0m \u001b[0ma1\u001b[0m\u001b[1;33m.\u001b[0m\u001b[0minsert\u001b[0m\u001b[1;33m(\u001b[0m\u001b[1;34m\"hello\"\u001b[0m\u001b[1;33m)\u001b[0m\u001b[1;33m\u001b[0m\u001b[1;33m\u001b[0m\u001b[0m\n",
      "\u001b[1;31mAttributeError\u001b[0m: 'tuple' object has no attribute 'remove'"
     ]
    }
   ],
   "source": [
    "a1.remove(\"hello\")"
   ]
  },
  {
   "cell_type": "code",
   "execution_count": 16,
   "id": "73b75bfe",
   "metadata": {},
   "outputs": [
    {
     "ename": "AttributeError",
     "evalue": "'tuple' object has no attribute 'insert'",
     "output_type": "error",
     "traceback": [
      "\u001b[1;31m---------------------------------------------------------------------------\u001b[0m",
      "\u001b[1;31mAttributeError\u001b[0m                            Traceback (most recent call last)",
      "\u001b[1;32m<ipython-input-16-7a7ab4dd0714>\u001b[0m in \u001b[0;36m<module>\u001b[1;34m\u001b[0m\n\u001b[1;32m----> 1\u001b[1;33m \u001b[0ma1\u001b[0m\u001b[1;33m.\u001b[0m\u001b[0minsert\u001b[0m\u001b[1;33m(\u001b[0m\u001b[1;34m\"hello\"\u001b[0m\u001b[1;33m)\u001b[0m\u001b[1;33m\u001b[0m\u001b[1;33m\u001b[0m\u001b[0m\n\u001b[0m",
      "\u001b[1;31mAttributeError\u001b[0m: 'tuple' object has no attribute 'insert'"
     ]
    }
   ],
   "source": [
    "a1.insert(\"hello\")"
   ]
  },
  {
   "cell_type": "code",
   "execution_count": 27,
   "id": "96ddf9e6",
   "metadata": {},
   "outputs": [],
   "source": [
    "a2=list(a1)"
   ]
  },
  {
   "cell_type": "code",
   "execution_count": 29,
   "id": "adc0941d",
   "metadata": {},
   "outputs": [],
   "source": [
    "a2[1]=\"Suhaila\""
   ]
  },
  {
   "cell_type": "code",
   "execution_count": 30,
   "id": "b433a7b4",
   "metadata": {},
   "outputs": [],
   "source": [
    "a3=tuple(a2)"
   ]
  },
  {
   "cell_type": "code",
   "execution_count": 31,
   "id": "6d5c2eac",
   "metadata": {},
   "outputs": [
    {
     "data": {
      "text/plain": [
       "(1, 'Suhaila', 'watermelon')"
      ]
     },
     "execution_count": 31,
     "metadata": {},
     "output_type": "execute_result"
    }
   ],
   "source": [
    "a3"
   ]
  },
  {
   "cell_type": "markdown",
   "id": "81d2a8a1",
   "metadata": {},
   "source": [
    "# Dictionary"
   ]
  },
  {
   "cell_type": "code",
   "execution_count": 17,
   "id": "fa6af09f",
   "metadata": {},
   "outputs": [],
   "source": [
    "d1={0:\"pineapple\" , 1: \"guava\" , 2: \"dates \"}"
   ]
  },
  {
   "cell_type": "code",
   "execution_count": 18,
   "id": "5253bded",
   "metadata": {},
   "outputs": [
    {
     "data": {
      "text/plain": [
       "dict_keys([0, 1, 2])"
      ]
     },
     "execution_count": 18,
     "metadata": {},
     "output_type": "execute_result"
    }
   ],
   "source": [
    "d1.keys()"
   ]
  },
  {
   "cell_type": "code",
   "execution_count": 19,
   "id": "4f033046",
   "metadata": {},
   "outputs": [
    {
     "data": {
      "text/plain": [
       "dict_items([(0, 'pineapple'), (1, 'guava'), (2, 'dates ')])"
      ]
     },
     "execution_count": 19,
     "metadata": {},
     "output_type": "execute_result"
    }
   ],
   "source": [
    "d1.items()"
   ]
  },
  {
   "cell_type": "code",
   "execution_count": 23,
   "id": "5ae23619",
   "metadata": {},
   "outputs": [],
   "source": [
    "d2={3: \"watermelon \", 4 : \"peach\"}\n",
    "d1.update(d2)"
   ]
  },
  {
   "cell_type": "code",
   "execution_count": 24,
   "id": "b3b4e827",
   "metadata": {},
   "outputs": [
    {
     "data": {
      "text/plain": [
       "{0: 'pineapple', 1: 'guava', 2: 'dates ', 3: 'watermelon ', 4: 'peach'}"
      ]
     },
     "execution_count": 24,
     "metadata": {},
     "output_type": "execute_result"
    }
   ],
   "source": [
    "d1"
   ]
  },
  {
   "cell_type": "code",
   "execution_count": 25,
   "id": "75980e61",
   "metadata": {},
   "outputs": [],
   "source": [
    "d1[3]=\"123\""
   ]
  },
  {
   "cell_type": "code",
   "execution_count": 26,
   "id": "e8458102",
   "metadata": {},
   "outputs": [
    {
     "data": {
      "text/plain": [
       "{0: 'pineapple', 1: 'guava', 2: 'dates ', 3: '123', 4: 'peach'}"
      ]
     },
     "execution_count": 26,
     "metadata": {},
     "output_type": "execute_result"
    }
   ],
   "source": [
    "d1"
   ]
  },
  {
   "cell_type": "code",
   "execution_count": 34,
   "id": "87d59b6e",
   "metadata": {},
   "outputs": [],
   "source": [
    "d3=[1,1,1]"
   ]
  },
  {
   "cell_type": "code",
   "execution_count": 35,
   "id": "9b3e8f49",
   "metadata": {},
   "outputs": [
    {
     "name": "stdout",
     "output_type": "stream",
     "text": [
      "[1, 1, 1]\n"
     ]
    }
   ],
   "source": [
    "print(d3)"
   ]
  },
  {
   "cell_type": "markdown",
   "id": "8e61aab5",
   "metadata": {},
   "source": [
    "# Another"
   ]
  },
  {
   "cell_type": "code",
   "execution_count": 102,
   "id": "b6b0e898",
   "metadata": {},
   "outputs": [],
   "source": [
    "key_list=[1,2,3,4]\n",
    "val_list=[\"a\",\"b\",\"c\",\"d\"]"
   ]
  },
  {
   "cell_type": "code",
   "execution_count": 104,
   "id": "d6294c54",
   "metadata": {},
   "outputs": [
    {
     "name": "stdout",
     "output_type": "stream",
     "text": [
      "{1: 'a', 2: 'b', 3: 'c', 4: 'd'}\n"
     ]
    }
   ],
   "source": [
    "di=dict(zip(key_list,val_list))\n",
    "print(di)"
   ]
  },
  {
   "cell_type": "markdown",
   "id": "c33df4e0",
   "metadata": {},
   "source": [
    "# Recursion "
   ]
  },
  {
   "cell_type": "code",
   "execution_count": 175,
   "id": "f65174a1",
   "metadata": {},
   "outputs": [],
   "source": [
    "def fact(n):\n",
    "    base=1\n",
    "    for i in range (2,n+1):\n",
    "        base *=i\n",
    "        \n",
    "    return base"
   ]
  },
  {
   "cell_type": "code",
   "execution_count": 177,
   "id": "8594664f",
   "metadata": {},
   "outputs": [
    {
     "data": {
      "text/plain": [
       "720"
      ]
     },
     "execution_count": 177,
     "metadata": {},
     "output_type": "execute_result"
    }
   ],
   "source": [
    "fact(6)"
   ]
  },
  {
   "cell_type": "code",
   "execution_count": null,
   "id": "29f9a7b2",
   "metadata": {},
   "outputs": [],
   "source": [
    "\n"
   ]
  },
  {
   "cell_type": "code",
   "execution_count": null,
   "id": "4f1e79fc",
   "metadata": {},
   "outputs": [],
   "source": []
  },
  {
   "cell_type": "code",
   "execution_count": null,
   "id": "770de25e",
   "metadata": {},
   "outputs": [],
   "source": []
  }
 ],
 "metadata": {
  "kernelspec": {
   "display_name": "Python 3",
   "language": "python",
   "name": "python3"
  },
  "language_info": {
   "codemirror_mode": {
    "name": "ipython",
    "version": 3
   },
   "file_extension": ".py",
   "mimetype": "text/x-python",
   "name": "python",
   "nbconvert_exporter": "python",
   "pygments_lexer": "ipython3",
   "version": "3.8.8"
  }
 },
 "nbformat": 4,
 "nbformat_minor": 5
}

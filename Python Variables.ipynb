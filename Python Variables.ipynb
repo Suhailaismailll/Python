{
 "cells": [
  {
   "cell_type": "markdown",
   "id": "e1dfd4f9",
   "metadata": {},
   "source": [
    "# Creating Variables"
   ]
  },
  {
   "cell_type": "code",
   "execution_count": 1,
   "id": "8549ea0e",
   "metadata": {},
   "outputs": [
    {
     "name": "stdout",
     "output_type": "stream",
     "text": [
      "5\n",
      "Mohamed\n"
     ]
    }
   ],
   "source": [
    "x=5\n",
    "y=\"Mohamed\"\n",
    "print(x)\n",
    "print(y)"
   ]
  },
  {
   "cell_type": "code",
   "execution_count": 2,
   "id": "a704dd40",
   "metadata": {},
   "outputs": [
    {
     "name": "stdout",
     "output_type": "stream",
     "text": [
      "Sally\n"
     ]
    }
   ],
   "source": [
    "x= 22\n",
    "x= \"Sally\"\n",
    "print(x)"
   ]
  },
  {
   "cell_type": "markdown",
   "id": "26d81dd6",
   "metadata": {},
   "source": [
    "# Casting Variables"
   ]
  },
  {
   "cell_type": "code",
   "execution_count": 3,
   "id": "41bf0992",
   "metadata": {},
   "outputs": [
    {
     "name": "stdout",
     "output_type": "stream",
     "text": [
      "3\n",
      "5\n",
      "3.0\n"
     ]
    }
   ],
   "source": [
    "z= str(3)\n",
    "print(z)\n",
    "y= int(5)\n",
    "print(y)\n",
    "l= float(3)\n",
    "print(l)"
   ]
  },
  {
   "cell_type": "markdown",
   "id": "512cf0a9",
   "metadata": {},
   "source": [
    "# Get the Type"
   ]
  },
  {
   "cell_type": "code",
   "execution_count": 4,
   "id": "d8822b44",
   "metadata": {},
   "outputs": [
    {
     "name": "stdout",
     "output_type": "stream",
     "text": [
      "<class 'str'>\n",
      "<class 'int'>\n",
      "<class 'float'>\n"
     ]
    }
   ],
   "source": [
    "print(type(z))\n",
    "print(type(y))\n",
    "print(type(l))"
   ]
  },
  {
   "cell_type": "markdown",
   "id": "0ab8e4cb",
   "metadata": {},
   "source": [
    "# Single or Double quotes"
   ]
  },
  {
   "cell_type": "code",
   "execution_count": 5,
   "id": "2bf22b88",
   "metadata": {},
   "outputs": [],
   "source": [
    "x=\"Suhaila\" # double quotes for sentences\n",
    "x='Suhaila' #single quote for words"
   ]
  },
  {
   "cell_type": "markdown",
   "id": "860a14ef",
   "metadata": {},
   "source": [
    "# Case-Sensitive"
   ]
  },
  {
   "cell_type": "code",
   "execution_count": 6,
   "id": "547f7a86",
   "metadata": {},
   "outputs": [
    {
     "name": "stdout",
     "output_type": "stream",
     "text": [
      "Suhaila 4\n"
     ]
    }
   ],
   "source": [
    "a=4\n",
    "A= \"Suhaila\"\n",
    "print(A,a)\n"
   ]
  }
 ],
 "metadata": {
  "kernelspec": {
   "display_name": "Python 3",
   "language": "python",
   "name": "python3"
  },
  "language_info": {
   "codemirror_mode": {
    "name": "ipython",
    "version": 3
   },
   "file_extension": ".py",
   "mimetype": "text/x-python",
   "name": "python",
   "nbconvert_exporter": "python",
   "pygments_lexer": "ipython3",
   "version": "3.8.8"
  }
 },
 "nbformat": 4,
 "nbformat_minor": 5
}

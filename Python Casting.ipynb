{
 "cells": [
  {
   "cell_type": "markdown",
   "id": "8c01a650",
   "metadata": {},
   "source": [
    "# Python Casting"
   ]
  },
  {
   "cell_type": "code",
   "execution_count": 3,
   "id": "8362aead",
   "metadata": {},
   "outputs": [
    {
     "name": "stdout",
     "output_type": "stream",
     "text": [
      "3\n",
      "5\n",
      "26\n",
      "78\n"
     ]
    }
   ],
   "source": [
    "z= int (3.0)\n",
    "c= int(5.1234)\n",
    "v=int('26')\n",
    "l=int(78)\n",
    "\n",
    "\n",
    "print(z)\n",
    "print(c)\n",
    "print(v)\n",
    "print(l)\n"
   ]
  },
  {
   "cell_type": "code",
   "execution_count": 4,
   "id": "841082aa",
   "metadata": {},
   "outputs": [
    {
     "name": "stdout",
     "output_type": "stream",
     "text": [
      "3.0\n",
      "5.1234\n",
      "26.0\n",
      "78.0\n"
     ]
    }
   ],
   "source": [
    "z= float (3.0)\n",
    "c= float(5.1234)\n",
    "v=float('26')\n",
    "l=float(78)\n",
    "\n",
    "\n",
    "print(z)\n",
    "print(c)\n",
    "print(v)\n",
    "print(l)"
   ]
  },
  {
   "cell_type": "code",
   "execution_count": 8,
   "id": "c6c96257",
   "metadata": {},
   "outputs": [
    {
     "name": "stdout",
     "output_type": "stream",
     "text": [
      "3.0\n",
      "5.1234\n",
      "26\n",
      "78\n",
      "<class 'str'>\n",
      "<class 'str'>\n",
      "<class 'str'>\n",
      "<class 'str'>\n"
     ]
    }
   ],
   "source": [
    "k= str (3.0)\n",
    "o= str(5.1234)\n",
    "p=str('26')\n",
    "s=str(78)\n",
    "\n",
    "\n",
    "print(k)\n",
    "print(o)\n",
    "print(p)\n",
    "print(s)\n",
    "\n",
    "print(type(k))\n",
    "print(type(o))\n",
    "print(type(p))\n",
    "print(type(s))"
   ]
  }
 ],
 "metadata": {
  "kernelspec": {
   "display_name": "Python 3",
   "language": "python",
   "name": "python3"
  },
  "language_info": {
   "codemirror_mode": {
    "name": "ipython",
    "version": 3
   },
   "file_extension": ".py",
   "mimetype": "text/x-python",
   "name": "python",
   "nbconvert_exporter": "python",
   "pygments_lexer": "ipython3",
   "version": "3.8.8"
  }
 },
 "nbformat": 4,
 "nbformat_minor": 5
}

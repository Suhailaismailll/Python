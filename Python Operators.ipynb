{
 "cells": [
  {
   "cell_type": "markdown",
   "id": "74149f70",
   "metadata": {},
   "source": [
    "# Arithmetic Operators "
   ]
  },
  {
   "cell_type": "code",
   "execution_count": 1,
   "id": "63d711b6",
   "metadata": {},
   "outputs": [
    {
     "name": "stdout",
     "output_type": "stream",
     "text": [
      "16\n",
      "6\n",
      "10\n",
      "4\n",
      "60\n",
      "1.6666666666666667\n",
      "1\n",
      "4\n"
     ]
    }
   ],
   "source": [
    "x=6\n",
    "y=10\n",
    "\n",
    "print(x+y)\n",
    "print(x)\n",
    "print(y)\n",
    "print(y-x)\n",
    "print(y*x)\n",
    "print(y/x)\n",
    "print(y//x)\n",
    "print(y%x)\n"
   ]
  },
  {
   "cell_type": "markdown",
   "id": "6069f252",
   "metadata": {},
   "source": [
    "# Assignment Operators "
   ]
  },
  {
   "cell_type": "code",
   "execution_count": 2,
   "id": "946e2a74",
   "metadata": {},
   "outputs": [
    {
     "name": "stdout",
     "output_type": "stream",
     "text": [
      "15\n",
      "14\n",
      "7.0\n",
      "35.0\n",
      "1.0\n",
      "1.0\n",
      "0.0\n"
     ]
    }
   ],
   "source": [
    "x=12\n",
    "x+=3\n",
    "print(x)\n",
    "x-=1\n",
    "print(x)\n",
    "x/=2\n",
    "print(x)\n",
    "x*=5\n",
    "print(x)\n",
    "x%=2\n",
    "print(x)\n",
    "x**=4\n",
    "print(x)\n",
    "x//=2\n",
    "print(x)\n"
   ]
  },
  {
   "cell_type": "markdown",
   "id": "0228c15e",
   "metadata": {},
   "source": [
    "# Logical Operators "
   ]
  },
  {
   "cell_type": "code",
   "execution_count": 3,
   "id": "09750411",
   "metadata": {},
   "outputs": [
    {
     "name": "stdout",
     "output_type": "stream",
     "text": [
      "0\n",
      "0\n",
      "1\n",
      "1\n",
      "0\n",
      "1\n"
     ]
    }
   ],
   "source": [
    "print(0 and 1)\n",
    "print(0 and 0)\n",
    "print(1 and 1)\n",
    "\n",
    "print(0 or 1)\n",
    "print(0 or 0)\n",
    "print(1 or 1)"
   ]
  }
 ],
 "metadata": {
  "kernelspec": {
   "display_name": "Python 3",
   "language": "python",
   "name": "python3"
  },
  "language_info": {
   "codemirror_mode": {
    "name": "ipython",
    "version": 3
   },
   "file_extension": ".py",
   "mimetype": "text/x-python",
   "name": "python",
   "nbconvert_exporter": "python",
   "pygments_lexer": "ipython3",
   "version": "3.8.8"
  }
 },
 "nbformat": 4,
 "nbformat_minor": 5
}

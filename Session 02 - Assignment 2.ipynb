{
 "cells": [
  {
   "cell_type": "markdown",
   "id": "d74b9ad4",
   "metadata": {},
   "source": [
    "# Homework 1"
   ]
  },
  {
   "cell_type": "code",
   "execution_count": 21,
   "id": "4a18153b",
   "metadata": {},
   "outputs": [
    {
     "name": "stdout",
     "output_type": "stream",
     "text": [
      "Enter First Number: 6\n"
     ]
    }
   ],
   "source": [
    "x=float(input(\"Enter First Number: \"))"
   ]
  },
  {
   "cell_type": "code",
   "execution_count": 22,
   "id": "529f978e",
   "metadata": {},
   "outputs": [
    {
     "name": "stdout",
     "output_type": "stream",
     "text": [
      "Enter Second Number: 0\n"
     ]
    }
   ],
   "source": [
    "y=float (input(\"Enter Second Number: \"))"
   ]
  },
  {
   "cell_type": "code",
   "execution_count": 24,
   "id": "67fe0a26",
   "metadata": {},
   "outputs": [
    {
     "name": "stdout",
     "output_type": "stream",
     "text": [
      "6.0 + 0.0 = 6.0\n"
     ]
    }
   ],
   "source": [
    "summ= x + y\n",
    "print(x, \"+\", y, \"=\", summ)"
   ]
  },
  {
   "cell_type": "code",
   "execution_count": 25,
   "id": "157d6c89",
   "metadata": {},
   "outputs": [
    {
     "name": "stdout",
     "output_type": "stream",
     "text": [
      "6.0 - 0.0 = 6.0\n"
     ]
    }
   ],
   "source": [
    "minus= x-y\n",
    "print(x, \"-\", y, \"=\", minus)"
   ]
  },
  {
   "cell_type": "code",
   "execution_count": 26,
   "id": "65b3ffde",
   "metadata": {},
   "outputs": [
    {
     "name": "stdout",
     "output_type": "stream",
     "text": [
      "6.0 * 0.0 = 0.0\n"
     ]
    }
   ],
   "source": [
    "mul= x*y\n",
    "print(x, \"*\", y, \"=\", mul)"
   ]
  },
  {
   "cell_type": "code",
   "execution_count": 27,
   "id": "de171cc1",
   "metadata": {},
   "outputs": [
    {
     "name": "stdout",
     "output_type": "stream",
     "text": [
      "Can't divide by zero\n"
     ]
    }
   ],
   "source": [
    "if y == 0:\n",
    "    print(\"Can't divide by zero\")\n",
    "else:\n",
    "    div= x/y\n",
    "    print(x, \"/\", y, \"=\", div)\n",
    "    "
   ]
  },
  {
   "cell_type": "markdown",
   "id": "da9723ae",
   "metadata": {},
   "source": [
    "# Homework 2"
   ]
  },
  {
   "cell_type": "code",
   "execution_count": 35,
   "id": "f8304d66",
   "metadata": {},
   "outputs": [
    {
     "name": "stdout",
     "output_type": "stream",
     "text": [
      "Enter the first student Name : mostafa\n",
      "Enter the first student ID : 124\n",
      "Enter the first student grade : 20\n"
     ]
    }
   ],
   "source": [
    "student1_name=input(\"Enter the first student Name : \")\n",
    "student1_id=input(\"Enter the first student ID : \")\n",
    "student1_grade=float(input(\"Enter the first student grade : \"))\n"
   ]
  },
  {
   "cell_type": "code",
   "execution_count": 36,
   "id": "3111bf3b",
   "metadata": {},
   "outputs": [
    {
     "name": "stdout",
     "output_type": "stream",
     "text": [
      " Enter the second student name : belal\n",
      "Enter the first student ID : 455\n",
      "Enter the first student grade : 31\n"
     ]
    }
   ],
   "source": [
    "student2_name=input(\" Enter the second student name : \")\n",
    "student2_id=input(\"Enter the first student ID : \")\n",
    "student2_grade=float(input(\"Enter the first student grade : \"))\n"
   ]
  },
  {
   "cell_type": "code",
   "execution_count": 38,
   "id": "91c65354",
   "metadata": {},
   "outputs": [
    {
     "name": "stdout",
     "output_type": "stream",
     "text": [
      "Mostafa ID (124) got grade : 20.0\n",
      "Belal ID (455) got grade :  31.0\n",
      "Average Math grade is : 25.5\n"
     ]
    }
   ],
   "source": [
    "print(\"Mostafa ID (124) got grade :\", student1_grade)\n",
    "print(\"Belal ID (455) got grade : \" , student2_grade)\n",
    "average=(student1_grade + student2_grade)/2\n",
    "print(\"Average Math grade is :\", average )"
   ]
  },
  {
   "cell_type": "markdown",
   "id": "beaa0251",
   "metadata": {},
   "source": [
    "# Homework 3"
   ]
  },
  {
   "cell_type": "code",
   "execution_count": 42,
   "id": "9dd4bf36",
   "metadata": {},
   "outputs": [
    {
     "name": "stdout",
     "output_type": "stream",
     "text": [
      "1 5 6 4 -2 8 9 3\n"
     ]
    }
   ],
   "source": [
    "inp1=input()"
   ]
  },
  {
   "cell_type": "code",
   "execution_count": 45,
   "id": "760c7d54",
   "metadata": {},
   "outputs": [],
   "source": [
    "evenplaces= 5+4+8+3\n",
    "oddplaces= 1+6+(-2) +9"
   ]
  },
  {
   "cell_type": "code",
   "execution_count": 47,
   "id": "b3d3bb70",
   "metadata": {},
   "outputs": [
    {
     "name": "stdout",
     "output_type": "stream",
     "text": [
      "20 14\n"
     ]
    }
   ],
   "source": [
    "print(evenplaces, oddplaces)"
   ]
  },
  {
   "cell_type": "markdown",
   "id": "179c0ba9",
   "metadata": {},
   "source": [
    "# Homework 4"
   ]
  },
  {
   "cell_type": "code",
   "execution_count": 49,
   "id": "3eb25c17",
   "metadata": {},
   "outputs": [
    {
     "name": "stdout",
     "output_type": "stream",
     "text": [
      "A'B\"CA'B\"CA'B\"CA'B\"CA'B\"CA'B\"CA'B\"CA'B\"CA'B\"CA'B\"C\n"
     ]
    }
   ],
   "source": [
    "string= \"\"\"A'B\"C\"\"\"\n",
    "print(string*10)"
   ]
  },
  {
   "cell_type": "markdown",
   "id": "5a1acebe",
   "metadata": {},
   "source": [
    "# Homework 5"
   ]
  },
  {
   "cell_type": "code",
   "execution_count": 58,
   "id": "fd8e2572",
   "metadata": {},
   "outputs": [
    {
     "name": "stdout",
     "output_type": "stream",
     "text": [
      "7 25\n"
     ]
    }
   ],
   "source": [
    "num1,num2=map(int, input().split())"
   ]
  },
  {
   "cell_type": "code",
   "execution_count": 59,
   "id": "73c846aa",
   "metadata": {},
   "outputs": [],
   "source": [
    "num1,num2=num2,num1"
   ]
  },
  {
   "cell_type": "code",
   "execution_count": 60,
   "id": "1a6e6f77",
   "metadata": {},
   "outputs": [
    {
     "name": "stdout",
     "output_type": "stream",
     "text": [
      "25 7\n"
     ]
    }
   ],
   "source": [
    "print(num1,num2)"
   ]
  }
 ],
 "metadata": {
  "kernelspec": {
   "display_name": "Python 3",
   "language": "python",
   "name": "python3"
  },
  "language_info": {
   "codemirror_mode": {
    "name": "ipython",
    "version": 3
   },
   "file_extension": ".py",
   "mimetype": "text/x-python",
   "name": "python",
   "nbconvert_exporter": "python",
   "pygments_lexer": "ipython3",
   "version": "3.8.8"
  }
 },
 "nbformat": 4,
 "nbformat_minor": 5
}

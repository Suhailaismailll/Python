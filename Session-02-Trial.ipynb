{
 "cells": [
  {
   "cell_type": "code",
   "execution_count": 1,
   "id": "bc277b83",
   "metadata": {},
   "outputs": [
    {
     "name": "stdout",
     "output_type": "stream",
     "text": [
      "True\n",
      "False\n",
      "True\n",
      "True\n",
      "True\n",
      "True\n",
      "True\n",
      "True\n",
      "True\n"
     ]
    }
   ],
   "source": [
    "print('love'<'zebra')\n",
    "print('love'< 'long')\n",
    "print('love' != 'long')\n",
    "print('counter ' < 'counterattack')\n",
    "\n",
    "print('A' < 'a')\n",
    "print('A' < 'z')\n",
    "print('Z' < 'a')\n",
    "print('loVE' < 'love')\n",
    "print('loVE' < 'long')\n"
   ]
  },
  {
   "cell_type": "code",
   "execution_count": 2,
   "id": "3bb49213",
   "metadata": {},
   "outputs": [
    {
     "name": "stdout",
     "output_type": "stream",
     "text": [
      "I am Suhaila\n",
      "I am Suhaila\n",
      " I am Suhaila\n",
      "Hello I am Suhaila\n"
     ]
    }
   ],
   "source": [
    "print('I am Suhaila')\n",
    "\n",
    "print('I am' + '' +' Suhaila')\n",
    "\n",
    "str1= ' I am'\n",
    "str2= ' Suhaila'\n",
    "print(str1 + str2)\n",
    "\n",
    "str3 = 'Hello'\n",
    "print(str3 + str1 + str2)"
   ]
  },
  {
   "cell_type": "code",
   "execution_count": 3,
   "id": "f56effb5",
   "metadata": {},
   "outputs": [
    {
     "name": "stdout",
     "output_type": "stream",
     "text": [
      "Hello\t World\n",
      "Hello\t\tWorld\n"
     ]
    }
   ],
   "source": [
    "print('Hello\\t World')\n",
    "print('Hello\\t\\tWorld')"
   ]
  },
  {
   "cell_type": "code",
   "execution_count": 4,
   "id": "da778f2a",
   "metadata": {},
   "outputs": [
    {
     "name": "stdout",
     "output_type": "stream",
     "text": [
      "Enter First Number 50\n",
      "Enter Second Number 90\n",
      "Minimum Number 50\n",
      "Maximum Number 90\n"
     ]
    }
   ],
   "source": [
    "inp1=int(input(\"Enter First Number \"))\n",
    "inp2=int(input(\"Enter Second Number \"))\n",
    "res1=min(inp1,inp2)\n",
    "res2=max(inp1,inp2)\n",
    "print(\"Minimum Number\", res1)\n",
    "print(\"Maximum Number\", res2)"
   ]
  },
  {
   "cell_type": "code",
   "execution_count": 5,
   "id": "90734689",
   "metadata": {},
   "outputs": [
    {
     "name": "stdout",
     "output_type": "stream",
     "text": [
      "Enter Your Name suhaila\n",
      "7\n"
     ]
    }
   ],
   "source": [
    "str_len=input(\"Enter Your Name \")\n",
    "x=len(str_len)\n",
    "\n",
    "print(x)"
   ]
  },
  {
   "cell_type": "code",
   "execution_count": 6,
   "id": "f62f1f45",
   "metadata": {},
   "outputs": [
    {
     "name": "stdout",
     "output_type": "stream",
     "text": [
      "Enter number15\n"
     ]
    }
   ],
   "source": [
    "num= input(\"Enter number\")"
   ]
  },
  {
   "cell_type": "code",
   "execution_count": 7,
   "id": "29988f51",
   "metadata": {},
   "outputs": [],
   "source": [
    "num_int= int(num)"
   ]
  },
  {
   "cell_type": "code",
   "execution_count": 9,
   "id": "80ed1656",
   "metadata": {},
   "outputs": [
    {
     "data": {
      "text/plain": [
       "str"
      ]
     },
     "execution_count": 9,
     "metadata": {},
     "output_type": "execute_result"
    }
   ],
   "source": [
    "type(num)"
   ]
  },
  {
   "cell_type": "code",
   "execution_count": 11,
   "id": "d7f500aa",
   "metadata": {},
   "outputs": [
    {
     "data": {
      "text/plain": [
       "int"
      ]
     },
     "execution_count": 11,
     "metadata": {},
     "output_type": "execute_result"
    }
   ],
   "source": [
    "type(num_int)"
   ]
  },
  {
   "cell_type": "code",
   "execution_count": 12,
   "id": "2ef939cd",
   "metadata": {},
   "outputs": [
    {
     "name": "stdout",
     "output_type": "stream",
     "text": [
      "15 20 60\n",
      "15 \n",
      " 20 \n",
      " 60\n"
     ]
    }
   ],
   "source": [
    "a,b,c= input().split()\n",
    "print(a, '\\n', b,'\\n',c )"
   ]
  },
  {
   "cell_type": "code",
   "execution_count": 13,
   "id": "554a68c5",
   "metadata": {},
   "outputs": [
    {
     "name": "stdout",
     "output_type": "stream",
     "text": [
      "Enter Name suhaila\n"
     ]
    }
   ],
   "source": [
    "name=input(\"Enter Name \")\n"
   ]
  },
  {
   "cell_type": "code",
   "execution_count": 14,
   "id": "b80daf47",
   "metadata": {},
   "outputs": [
    {
     "name": "stdout",
     "output_type": "stream",
     "text": [
      "False\n",
      "False\n",
      "True\n",
      "True\n",
      "False\n",
      "True\n",
      "False\n"
     ]
    }
   ],
   "source": [
    "print('Suhaila' in name)\n",
    "print('S' in name)\n",
    "print('u' in name)\n",
    "print('a' in name)\n",
    "print('Suhila' in name)\n",
    "print('suhaila' in name)\n",
    "\n",
    "print('s' not in name)"
   ]
  },
  {
   "cell_type": "code",
   "execution_count": 15,
   "id": "66bf5230",
   "metadata": {},
   "outputs": [
    {
     "name": "stdout",
     "output_type": "stream",
     "text": [
      "Please Enter Your Salary 1500\n",
      "You are rich\n",
      "Keep Going\n"
     ]
    }
   ],
   "source": [
    "salary= int(input(\"Please Enter Your Salary \"))\n",
    "\n",
    "if salary <1000:\n",
    "    print(\"You are poor \", \"\\n\",\"Don't  Feel sad\")\n",
    "elif salary >1000:\n",
    "    print(\"You are rich\")\n",
    "    \n",
    "print(\"Keep Going\")"
   ]
  },
  {
   "cell_type": "code",
   "execution_count": 21,
   "id": "5e0d8ed6",
   "metadata": {},
   "outputs": [
    {
     "name": "stdout",
     "output_type": "stream",
     "text": [
      "Please Enter Your Grade45\n",
      "falied \n"
     ]
    }
   ],
   "source": [
    "grade=int(input(\"Please Enter Your Grade\"))\n",
    "if grade <50:\n",
    "    print(\"falied \")\n",
    "elif grade >=50 and grade <65:\n",
    "    print(\"passed with low grade \")\n",
    "elif grade >=65:\n",
    "    print(\"Passed with high grade \")"
   ]
  }
 ],
 "metadata": {
  "kernelspec": {
   "display_name": "Python 3",
   "language": "python",
   "name": "python3"
  },
  "language_info": {
   "codemirror_mode": {
    "name": "ipython",
    "version": 3
   },
   "file_extension": ".py",
   "mimetype": "text/x-python",
   "name": "python",
   "nbconvert_exporter": "python",
   "pygments_lexer": "ipython3",
   "version": "3.8.8"
  }
 },
 "nbformat": 4,
 "nbformat_minor": 5
}

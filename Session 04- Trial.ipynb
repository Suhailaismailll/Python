{
 "cells": [
  {
   "cell_type": "code",
   "execution_count": 1,
   "id": "ccc15c2a",
   "metadata": {},
   "outputs": [
    {
     "name": "stdout",
     "output_type": "stream",
     "text": [
      "0 h\n",
      "1 e\n",
      "2 l\n",
      "3 l\n",
      "4 o\n"
     ]
    }
   ],
   "source": [
    "for idx,value in enumerate (\"hello\"):\n",
    "    print(idx,value)"
   ]
  },
  {
   "cell_type": "code",
   "execution_count": 2,
   "id": "e0e49a8d",
   "metadata": {},
   "outputs": [
    {
     "name": "stdout",
     "output_type": "stream",
     "text": [
      "(0, 'h')\n",
      "(1, 'e')\n",
      "(2, 'l')\n",
      "(3, 'l')\n",
      "(4, 'o')\n"
     ]
    }
   ],
   "source": [
    "for item in enumerate (\"hello\"):\n",
    "    char,value=item\n",
    "    print(item)"
   ]
  },
  {
   "cell_type": "code",
   "execution_count": 12,
   "id": "89e7be33",
   "metadata": {},
   "outputs": [],
   "source": [
    "\n",
    "\n",
    "def sum_two_numbers(y):\n",
    "    x=2\n",
    "    sum_two_numbers= x+y\n",
    "    print(x)\n",
    "    return x\n",
    "\n",
    "\n",
    "x=3"
   ]
  },
  {
   "cell_type": "code",
   "execution_count": 10,
   "id": "84bf2fea",
   "metadata": {},
   "outputs": [
    {
     "name": "stdout",
     "output_type": "stream",
     "text": [
      "3\n"
     ]
    }
   ],
   "source": [
    "print(x)"
   ]
  },
  {
   "cell_type": "code",
   "execution_count": 11,
   "id": "36766cf4",
   "metadata": {},
   "outputs": [
    {
     "name": "stdout",
     "output_type": "stream",
     "text": [
      "2\n"
     ]
    },
    {
     "data": {
      "text/plain": [
       "2"
      ]
     },
     "execution_count": 11,
     "metadata": {},
     "output_type": "execute_result"
    }
   ],
   "source": [
    "sum_two_numbers(5)"
   ]
  },
  {
   "cell_type": "code",
   "execution_count": 14,
   "id": "94719196",
   "metadata": {},
   "outputs": [
    {
     "name": "stdout",
     "output_type": "stream",
     "text": [
      "ABC\n",
      "Suhaila\n"
     ]
    }
   ],
   "source": [
    "name= \"Suhaila\"\n",
    "\n",
    "def outerFn():\n",
    "    name = \"ABC\"\n",
    "    \n",
    "    \n",
    "    def innerFn():\n",
    "        print(name) #ABC\n",
    "        \n",
    "        \n",
    "    innerFn()\n",
    "    \n",
    "    \n",
    "outerFn()\n",
    "\n",
    "print(name) # Suhaila "
   ]
  },
  {
   "cell_type": "code",
   "execution_count": 20,
   "id": "ae3607c3",
   "metadata": {},
   "outputs": [],
   "source": [
    "def any1(a,b,c,d=10):\n",
    "    return a,b,c,d\n",
    "\n",
    "a,b,c,d= any1(5,4,3,16)"
   ]
  },
  {
   "cell_type": "code",
   "execution_count": 21,
   "id": "d0cecc11",
   "metadata": {},
   "outputs": [
    {
     "name": "stdout",
     "output_type": "stream",
     "text": [
      "5 4 3 16\n"
     ]
    }
   ],
   "source": [
    "print(a,b,c,d)"
   ]
  },
  {
   "cell_type": "code",
   "execution_count": 27,
   "id": "0f931846",
   "metadata": {},
   "outputs": [
    {
     "name": "stdout",
     "output_type": "stream",
     "text": [
      "5 2 3 6\n"
     ]
    }
   ],
   "source": [
    "a,b,c,d= any1(5,2,3,6)\n",
    "print(a,b,c,d)"
   ]
  },
  {
   "cell_type": "code",
   "execution_count": 35,
   "id": "afe5137f",
   "metadata": {},
   "outputs": [
    {
     "data": {
      "text/plain": [
       "(6, 8, 8, 0)"
      ]
     },
     "execution_count": 35,
     "metadata": {},
     "output_type": "execute_result"
    }
   ],
   "source": [
    "any1(c=8,d=0,a=6,b=8)"
   ]
  },
  {
   "cell_type": "code",
   "execution_count": 36,
   "id": "e4574b9a",
   "metadata": {},
   "outputs": [
    {
     "name": "stdout",
     "output_type": "stream",
     "text": [
      "5 2 3 6\n"
     ]
    }
   ],
   "source": [
    "print(a,b,c,d)"
   ]
  },
  {
   "cell_type": "code",
   "execution_count": 41,
   "id": "564b2bfc",
   "metadata": {},
   "outputs": [],
   "source": [
    "def our_sum(a,b):\n",
    "    \n",
    "    \"\"\" \n",
    "    This Function:\n",
    "    \n",
    "        will take two inputs to be summed\n",
    "\n",
    "    arguments:\n",
    "    \n",
    "        (a , b) can be numbers or strings \n",
    "    \n",
    "    return: \n",
    "    \n",
    "        Sum of the two inputs \n",
    "    \n",
    "    \"\"\"\n",
    "    z= a+b\n",
    "    return z"
   ]
  },
  {
   "cell_type": "code",
   "execution_count": 42,
   "id": "c17a87c1",
   "metadata": {},
   "outputs": [
    {
     "data": {
      "text/plain": [
       "16"
      ]
     },
     "execution_count": 42,
     "metadata": {},
     "output_type": "execute_result"
    }
   ],
   "source": [
    "our_sum(6,10)"
   ]
  },
  {
   "cell_type": "code",
   "execution_count": 43,
   "id": "f1ccce21",
   "metadata": {},
   "outputs": [
    {
     "data": {
      "text/plain": [
       "'Hello'"
      ]
     },
     "execution_count": 43,
     "metadata": {},
     "output_type": "execute_result"
    }
   ],
   "source": [
    "our_sum(\"Hel\",\"lo\")"
   ]
  },
  {
   "cell_type": "code",
   "execution_count": 53,
   "id": "7ecafebc",
   "metadata": {},
   "outputs": [],
   "source": [
    "class Employee:\n",
    "    name= None\n",
    "    salary = None\n",
    "    age = None\n",
    "    email = None\n",
    "    adress = None"
   ]
  },
  {
   "cell_type": "code",
   "execution_count": null,
   "id": "1acb48e4",
   "metadata": {
    "scrolled": true
   },
   "outputs": [],
   "source": []
  },
  {
   "cell_type": "code",
   "execution_count": null,
   "id": "4bd7acd1",
   "metadata": {},
   "outputs": [],
   "source": []
  },
  {
   "cell_type": "code",
   "execution_count": null,
   "id": "3d56eb76",
   "metadata": {},
   "outputs": [],
   "source": []
  }
 ],
 "metadata": {
  "kernelspec": {
   "display_name": "Python 3",
   "language": "python",
   "name": "python3"
  },
  "language_info": {
   "codemirror_mode": {
    "name": "ipython",
    "version": 3
   },
   "file_extension": ".py",
   "mimetype": "text/x-python",
   "name": "python",
   "nbconvert_exporter": "python",
   "pygments_lexer": "ipython3",
   "version": "3.8.8"
  }
 },
 "nbformat": 4,
 "nbformat_minor": 5
}
